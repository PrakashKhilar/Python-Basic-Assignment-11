{
 "cells": [
  {
   "cell_type": "markdown",
   "id": "34911df0",
   "metadata": {},
   "source": [
    "# Python-Basic-Assignment-11"
   ]
  },
  {
   "cell_type": "code",
   "execution_count": 1,
   "id": "ca5d9412",
   "metadata": {},
   "outputs": [],
   "source": [
    "# Q1 : 1. Write a Python program to find words which are greater than given length k ?"
   ]
  },
  {
   "cell_type": "code",
   "execution_count": 3,
   "id": "8414ca51",
   "metadata": {},
   "outputs": [
    {
     "name": "stdout",
     "output_type": "stream",
     "text": [
      "Enter the string: Praksh khiar silicon tech lab\n",
      "Enter the length of the string: 3\n",
      "Praksh,khiar,silicon,tech\n"
     ]
    }
   ],
   "source": [
    "# Ans;\n",
    "\n",
    "\n",
    "def checkLengthOfString():\n",
    "    in_string = input(\"Enter the string: \")\n",
    "    in_length = int(input('Enter the length of the string: '))\n",
    "    out_string = []\n",
    "    for string in in_string.split(\" \"):\n",
    "        if len(string) > in_length:\n",
    "            out_string.append(string)\n",
    "    print(','.join(out_string))\n",
    "\n",
    "checkLengthOfString()\n",
    "\n"
   ]
  },
  {
   "cell_type": "code",
   "execution_count": 4,
   "id": "5000fa2a",
   "metadata": {},
   "outputs": [],
   "source": [
    "# Q2. Write a Python program for removing i-th character from a string ?"
   ]
  },
  {
   "cell_type": "code",
   "execution_count": 7,
   "id": "2e5fa6f6",
   "metadata": {},
   "outputs": [
    {
     "name": "stdout",
     "output_type": "stream",
     "text": [
      "Enter the String: Prakash\n",
      "Enter the ith Character: 4\n",
      "Praksh\n"
     ]
    }
   ],
   "source": [
    "# Ans;\n",
    "\n",
    "def removeCharacter():\n",
    "    in_string = input(\"Enter the String: \")\n",
    "    in_char_num = int(input(\"Enter the ith Character: \"))\n",
    "    out_string = ''\n",
    "    for ele in range(len(in_string)):\n",
    "        if ele != in_char_num:\n",
    "            out_string = out_string + in_string[ele]\n",
    "    print(out_string)\n",
    "    \n",
    "removeCharacter()"
   ]
  },
  {
   "cell_type": "code",
   "execution_count": 8,
   "id": "d8cfabbb",
   "metadata": {},
   "outputs": [],
   "source": [
    "# Q3. Write a Python program to split and join a string ?"
   ]
  },
  {
   "cell_type": "code",
   "execution_count": 9,
   "id": "75fb153d",
   "metadata": {},
   "outputs": [
    {
     "name": "stdout",
     "output_type": "stream",
     "text": [
      "Enter the string: I am a student of INeuron full stack course\n",
      "Split String: ['I', 'am', 'a', 'student', 'of', 'INeuron', 'full', 'stack', 'course']\n",
      "Join String: I am a student of INeuron full stack course\n"
     ]
    }
   ],
   "source": [
    "# Ans;\n",
    "\n",
    "def splitJoinString():\n",
    "    in_string = input('Enter the string: ')\n",
    "    print(f\"Split String: {in_string.split(' ')}\")\n",
    "    print(f\"Join String: {' '.join(in_string.split(' '))}\")\n",
    "\n",
    "splitJoinString()"
   ]
  },
  {
   "cell_type": "code",
   "execution_count": 10,
   "id": "f05cb987",
   "metadata": {},
   "outputs": [],
   "source": [
    "# Q4 : 4. Write a Python to check if a given string is binary string or not ?"
   ]
  },
  {
   "cell_type": "code",
   "execution_count": 12,
   "id": "e6e09d85",
   "metadata": {},
   "outputs": [
    {
     "name": "stdout",
     "output_type": "stream",
     "text": [
      "Enter the string: Prakash \n",
      "Prakash  is not a binary string\n",
      "Enter the string: 010101\n",
      "010101 is a binary string\n"
     ]
    }
   ],
   "source": [
    "# Ans;\n",
    "\n",
    "def checkBinary():\n",
    "    in_string = input('Enter the string: ')\n",
    "    stun = 0\n",
    "    for ele in in_string:\n",
    "        if ele in ['0','1']:\n",
    "            stun = 1\n",
    "            continue\n",
    "        else:\n",
    "            stun = 0\n",
    "            break\n",
    "    statement = 'is a binary string' if stun == 1 else 'is not a binary string' \n",
    "    print(f'{in_string} {statement}')\n",
    "\n",
    "checkBinary()\n",
    "checkBinary()"
   ]
  },
  {
   "cell_type": "code",
   "execution_count": 13,
   "id": "2242f5ba",
   "metadata": {},
   "outputs": [],
   "source": [
    "# Q5. Write a Python program to find uncommon words from two Strings ?"
   ]
  },
  {
   "cell_type": "code",
   "execution_count": 15,
   "id": "f27fb9ea",
   "metadata": {},
   "outputs": [
    {
     "name": "stdout",
     "output_type": "stream",
     "text": [
      "Enter the String 1: Prakash is a Ineuron student\n",
      "Enter the String 2: Sudhanshu belong to Ineuron \n",
      "{'', 'a', 'is', 'Prakash', 'student', 'belong', 'to', 'Sudhanshu'}\n"
     ]
    }
   ],
   "source": [
    "# Ans;\n",
    "\n",
    "def unCommonWords():\n",
    "    in_string_1 = set(input(\"Enter the String 1: \").split(' '))\n",
    "    in_string_2 = set(input(\"Enter the String 2: \").split(' '))\n",
    "    out_string = (in_string_1.union(in_string_2)).difference(in_string_1.intersection(in_string_2))\n",
    "    print(out_string)\n",
    "\n",
    "unCommonWords()"
   ]
  },
  {
   "cell_type": "code",
   "execution_count": 16,
   "id": "24fc66b7",
   "metadata": {},
   "outputs": [],
   "source": [
    "# Q6. Write a Python to find all duplicate characters in string ?"
   ]
  },
  {
   "cell_type": "code",
   "execution_count": 17,
   "id": "eec75cf8",
   "metadata": {},
   "outputs": [
    {
     "name": "stdout",
     "output_type": "stream",
     "text": [
      "Enter the string: Ineuron\n",
      "Duplicate characters are: ['n']\n"
     ]
    }
   ],
   "source": [
    "# Ans;\n",
    "\n",
    "def duplicateChars():\n",
    "    in_string = input('Enter the string: ')\n",
    "    non_duplicate_list = []\n",
    "    duplicate_list = []\n",
    "    for ele in in_string:\n",
    "        if ele not in non_duplicate_list:\n",
    "            non_duplicate_list.append(ele)\n",
    "        else:\n",
    "            duplicate_list.append(ele)\n",
    "    print(f'Duplicate characters are: {list(set(duplicate_list))}')\n",
    "        \n",
    "duplicateChars()"
   ]
  },
  {
   "cell_type": "code",
   "execution_count": 18,
   "id": "ddfe1439",
   "metadata": {},
   "outputs": [],
   "source": [
    "# Q7. Write a Python Program to check if a string contains any special character?"
   ]
  },
  {
   "cell_type": "code",
   "execution_count": 19,
   "id": "b5224fb2",
   "metadata": {},
   "outputs": [
    {
     "name": "stdout",
     "output_type": "stream",
     "text": [
      "Enter the string: I @ the student of @iNeirion !!\n",
      "There are 4 Specialal Characters in I @ the student of @iNeirion !! which are ['@', '@', '!', '!']\n",
      "Enter the string: This !s Ineur@on\n",
      "There are 2 Specialal Characters in This !s Ineur@on which are ['!', '@']\n"
     ]
    }
   ],
   "source": [
    "# Ans;\n",
    "\n",
    "def checkSpecialChar():\n",
    "    spl_chars = '[@_!#$%^&*()<>?/\\|}{~:]'\n",
    "    in_num = input('Enter the string: ')\n",
    "    count = 0\n",
    "    char_list = []\n",
    "    for ele in in_num:\n",
    "        if ele in spl_chars:\n",
    "            char_list.append(ele)\n",
    "            count = count+1\n",
    "    print(f'There are {count} Specialal Characters in {in_num} which are {char_list}')\n",
    "            \n",
    "        \n",
    "checkSpecialChar()\n",
    "checkSpecialChar()"
   ]
  },
  {
   "cell_type": "code",
   "execution_count": null,
   "id": "bc110c39",
   "metadata": {},
   "outputs": [],
   "source": []
  }
 ],
 "metadata": {
  "kernelspec": {
   "display_name": "Python 3 (ipykernel)",
   "language": "python",
   "name": "python3"
  },
  "language_info": {
   "codemirror_mode": {
    "name": "ipython",
    "version": 3
   },
   "file_extension": ".py",
   "mimetype": "text/x-python",
   "name": "python",
   "nbconvert_exporter": "python",
   "pygments_lexer": "ipython3",
   "version": "3.9.12"
  }
 },
 "nbformat": 4,
 "nbformat_minor": 5
}
